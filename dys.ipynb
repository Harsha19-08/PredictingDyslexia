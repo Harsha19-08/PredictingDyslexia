{
 "cells": [
  {
   "cell_type": "code",
   "execution_count": 12,
   "id": "289bdfdb",
   "metadata": {},
   "outputs": [
    {
     "name": "stderr",
     "output_type": "stream",
     "text": [
      "C:\\Users\\22r21\\AppData\\Local\\Temp\\ipykernel_11608\\2929538066.py:18: FutureWarning: Downcasting behavior in `replace` is deprecated and will be removed in a future version. To retain the old behavior, explicitly call `result.infer_objects(copy=False)`. To opt-in to the future behavior, set `pd.set_option('future.no_silent_downcasting', True)`\n",
      "  data = data.replace('Yes',1)\n"
     ]
    }
   ],
   "source": [
    "import pandas as pd\n",
    "import numpy as np\n",
    "from sklearn.svm import SVC\n",
    "from sklearn.model_selection import GridSearchCV\n",
    "from sklearn.model_selection import train_test_split\n",
    "from sklearn.preprocessing import StandardScaler\n",
    "from sklearn.neighbors import KNeighborsClassifier\n",
    "from sklearn.linear_model import LogisticRegression\n",
    "from sklearn.ensemble import RandomForestClassifier\n",
    "from sklearn.model_selection import cross_val_score, train_test_split\n",
    "from sklearn.feature_selection import SelectKBest, chi2\n",
    "from sklearn.preprocessing import StandardScaler\n",
    "from sklearn.metrics import accuracy_score, precision_score, recall_score, f1_score, roc_auc_score,classification_report\n",
    "\n",
    "# load the dataset\n",
    "data = pd.read_csv(\"C:/Users/22r21/OneDrive/Documents/personal/OneDrive/Desktop/project1/Dyt-desktop.csv\",index_col=0)\n",
    "data = data.replace('No',0)\n",
    "data = data.replace('Yes',1)\n"
   ]
  },
  {
   "cell_type": "code",
   "execution_count": 13,
   "id": "808d291b",
   "metadata": {},
   "outputs": [],
   "source": [
    "# split the data into train and test sets\n",
    "X = data.drop('Dyslexia', axis=1) \n",
    "y = data['Dyslexia'] # target variable\n",
    "selector = SelectKBest(chi2, k=10)\n",
    "X_new = selector.fit_transform(X, y)\n",
    "\n",
    "scaler = StandardScaler()\n",
    "X_scaled = scaler.fit_transform(X_new)\n",
    "\n",
    "X_train, X_test, y_train, y_test = train_test_split(X_scaled, y, test_size=0.2, random_state=42)\n",
    "X_train, X_valid, y_train, y_valid = train_test_split(X_train, y_train, test_size=0.2, random_state=42)"
   ]
  },
  {
   "cell_type": "code",
   "execution_count": 14,
   "id": "b17b3f0e",
   "metadata": {},
   "outputs": [
    {
     "name": "stdout",
     "output_type": "stream",
     "text": [
      "Accuracy: 0.10973936899862825\n",
      "Precision: 0.10973936899862825\n",
      "Recall: 1.0\n",
      "F1 Score: 0.19777503090234858\n",
      "AUC-ROC Score: 0.5\n",
      "                        precision    recall  f1-score   support\n",
      "\n",
      "Does not have Dyslexia       0.00      0.00      0.00       649\n",
      "          Has Dyslexia       0.11      1.00      0.20        80\n",
      "\n",
      "              accuracy                           0.11       729\n",
      "             macro avg       0.05      0.50      0.10       729\n",
      "          weighted avg       0.01      0.11      0.02       729\n",
      "\n"
     ]
    },
    {
     "name": "stderr",
     "output_type": "stream",
     "text": [
      "C:\\Users\\22r21\\AppData\\Local\\Programs\\Python\\Python312\\Lib\\site-packages\\sklearn\\metrics\\_classification.py:1509: UndefinedMetricWarning: Precision is ill-defined and being set to 0.0 in labels with no predicted samples. Use `zero_division` parameter to control this behavior.\n",
      "  _warn_prf(average, modifier, f\"{metric.capitalize()} is\", len(result))\n",
      "C:\\Users\\22r21\\AppData\\Local\\Programs\\Python\\Python312\\Lib\\site-packages\\sklearn\\metrics\\_classification.py:1509: UndefinedMetricWarning: Precision is ill-defined and being set to 0.0 in labels with no predicted samples. Use `zero_division` parameter to control this behavior.\n",
      "  _warn_prf(average, modifier, f\"{metric.capitalize()} is\", len(result))\n",
      "C:\\Users\\22r21\\AppData\\Local\\Programs\\Python\\Python312\\Lib\\site-packages\\sklearn\\metrics\\_classification.py:1509: UndefinedMetricWarning: Precision is ill-defined and being set to 0.0 in labels with no predicted samples. Use `zero_division` parameter to control this behavior.\n",
      "  _warn_prf(average, modifier, f\"{metric.capitalize()} is\", len(result))\n"
     ]
    }
   ],
   "source": [
    "y_pred=[1]*len(y_test)\n",
    "\n",
    "print(\"Accuracy:\", accuracy_score(y_test, y_pred))\n",
    "print(\"Precision:\", precision_score(y_test, y_pred))\n",
    "print(\"Recall:\", recall_score(y_test, y_pred))\n",
    "print(\"F1 Score:\", f1_score(y_test, y_pred))\n",
    "print(\"AUC-ROC Score:\", roc_auc_score(y_test, y_pred))\n",
    "target_names = ['Does not have Dyslexia','Has Dyslexia']\n",
    "print(classification_report(y_test, y_pred, target_names=target_names))\n"
   ]
  },
  {
   "cell_type": "code",
   "execution_count": 17,
   "id": "fc38c673",
   "metadata": {},
   "outputs": [
    {
     "name": "stdout",
     "output_type": "stream",
     "text": [
      "Logistic Regression default accuracy: 0.8902606310013718\n",
      "logistic reg tuned validation accuracy:  0.902229845626072\n",
      "logistic selected hyperparameters: {'C': 1e-10}\n",
      "Logistic Regression final test accuracy: 0.8902606310013718\n"
     ]
    }
   ],
   "source": [
    "# Logistic Regression\n",
    "logreg_default = LogisticRegression(max_iter=1000)\n",
    "logreg_default.fit(X_train, y_train)\n",
    "accuracy = logreg_default.score(X_test, y_test)\n",
    "print(\"Logistic Regression default accuracy:\",accuracy)\n",
    "\n",
    "logistic_params = {\"C\": 10.0 ** np.arange(-10, 10)}\n",
    "logistic_grid = GridSearchCV( LogisticRegression(max_iter=1000), logistic_params, cv=5)\n",
    "logistic_grid.fit(X_train, y_train)\n",
    "logistic_tuned_acc = accuracy_score(y_valid, logistic_grid.predict(X_valid))\n",
    "logistic_params_best = logistic_grid.best_params_\n",
    "print(\"logistic reg tuned validation accuracy: \",logistic_tuned_acc)\n",
    "print(f\"logistic selected hyperparameters: {logistic_params_best}\")\n",
    "\n",
    "\n",
    "logistic_best = LogisticRegression(max_iter=1000, C=logistic_params_best['C'])\n",
    "logistic_best.fit(X_train, y_train)\n",
    "accuracy_test = logistic_best.score(X_test, y_test)\n",
    "print(\"Logistic Regression final test accuracy:\",accuracy_test)\n"
   ]
  },
  {
   "cell_type": "code",
   "execution_count": 16,
   "id": "6087afad",
   "metadata": {},
   "outputs": [
    {
     "name": "stdout",
     "output_type": "stream",
     "text": [
      "KNN default accuracy: 0.8888888888888888\n",
      "k-NN tuned validation accuracy:  0.902229845626072\n",
      "k-NN selected hyperparameters: {'n_neighbors': 22}\n",
      "KNN default accuracy: 0.8902606310013718\n"
     ]
    }
   ],
   "source": [
    "# k-Nearest Neighbors\n",
    "knn_default = KNeighborsClassifier()\n",
    "knn_default.fit(X_train, y_train)\n",
    "accuracy = knn_default.score(X_test, y_test)\n",
    "print(\"KNN default accuracy:\",accuracy)\n",
    "\n",
    "\n",
    "# k-NN\n",
    "knn_params = {\n",
    "    'n_neighbors': [5, 22, 10, 1, 15]\n",
    "}\n",
    "knn_grid = GridSearchCV(KNeighborsClassifier(), knn_params, cv=5,scoring='accuracy')\n",
    "knn_grid.fit(X_train, y_train)\n",
    "knn_tuned_acc = accuracy_score(y_valid, knn_grid.predict(X_valid))\n",
    "knn_params_best = knn_grid.best_params_\n",
    "print(\"k-NN tuned validation accuracy: \",knn_tuned_acc)\n",
    "print(f\"k-NN selected hyperparameters: {knn_params_best}\")\n",
    "\n",
    "knn_best = KNeighborsClassifier(n_neighbors=knn_params_best['n_neighbors'])\n",
    "knn_best.fit(X_train, y_train)\n",
    "accuracy_test = knn_best.score(X_test, y_test)\n",
    "print(\"KNN default accuracy:\",accuracy_test)"
   ]
  }
 ],
 "metadata": {
  "kernelspec": {
   "display_name": "Python 3 (ipykernel)",
   "language": "python",
   "name": "python3"
  },
  "language_info": {
   "codemirror_mode": {
    "name": "ipython",
    "version": 3
   },
   "file_extension": ".py",
   "mimetype": "text/x-python",
   "name": "python",
   "nbconvert_exporter": "python",
   "pygments_lexer": "ipython3",
   "version": "3.12.2"
  }
 },
 "nbformat": 4,
 "nbformat_minor": 5
}
